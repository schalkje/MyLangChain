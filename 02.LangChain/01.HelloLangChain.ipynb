{
 "cells": [
  {
   "cell_type": "markdown",
   "id": "32ed9f1f-9c98-42a8-bb85-5f74bdda3fc2",
   "metadata": {},
   "source": [
    "# Hello LangChain"
   ]
  },
  {
   "cell_type": "code",
   "execution_count": 1,
   "id": "1bbadfac-d43b-490e-9115-25e3d0753244",
   "metadata": {},
   "outputs": [],
   "source": [
    "from langchain_openai import ChatOpenAI"
   ]
  },
  {
   "cell_type": "code",
   "execution_count": 2,
   "id": "355ec043-05ae-4ed8-a2a5-fd10c55b2701",
   "metadata": {
    "editable": true,
    "slideshow": {
     "slide_type": ""
    },
    "tags": []
   },
   "outputs": [],
   "source": [
    "llm = ChatOpenAI()"
   ]
  },
  {
   "cell_type": "code",
   "execution_count": 3,
   "id": "26ecc54a-1cbf-4c1b-aaf0-b0053f76dca5",
   "metadata": {},
   "outputs": [],
   "source": [
    "from langchain_core.prompts import ChatPromptTemplate"
   ]
  },
  {
   "cell_type": "code",
   "execution_count": 4,
   "id": "0b7a38ba-4993-47e6-a538-40756702f307",
   "metadata": {},
   "outputs": [],
   "source": [
    "prompt = ChatPromptTemplate.from_messages([\n",
    "    (\"system\", \"You are world class technical documentation writer.\"),\n",
    "    (\"user\", \"{input}\")\n",
    "])"
   ]
  },
  {
   "cell_type": "code",
   "execution_count": 5,
   "id": "938b590e-60b4-49a2-9fc1-5c0a23becf62",
   "metadata": {},
   "outputs": [],
   "source": [
    "chain = prompt | llm "
   ]
  },
  {
   "cell_type": "code",
   "execution_count": 6,
   "id": "f99b4ee9-06c0-47e5-b002-a445678a9564",
   "metadata": {},
   "outputs": [
    {
     "data": {
      "text/plain": [
       "AIMessage(content='Langsmith can help with testing in several ways:\\n\\n1. Code Quality: Langsmith can be used to analyze code for potential quality issues, such as unused variables, code duplication, and potential bugs. By identifying these issues early on, developers can ensure better quality code before testing begins.\\n\\n2. Test Automation: Langsmith can generate test cases based on the code structure and logic. This can help automate the testing process and ensure better coverage of the codebase. By automating tests, developers can identify bugs and issues more quickly and efficiently.\\n\\n3. Performance Testing: Langsmith can analyze code performance and provide insights into potential bottlenecks or areas for optimization. By optimizing code performance, developers can ensure that their applications run smoothly and efficiently.\\n\\n4. Security Testing: Langsmith can help identify potential security vulnerabilities in the codebase. By analyzing the code for security issues, developers can proactively address vulnerabilities and ensure that their applications are secure.\\n\\nOverall, Langsmith can help streamline the testing process, improve code quality, and enhance the overall reliability and security of software applications.', response_metadata={'token_usage': {'completion_tokens': 214, 'prompt_tokens': 27, 'total_tokens': 241}, 'model_name': 'gpt-3.5-turbo-0125', 'system_fingerprint': None, 'finish_reason': 'stop', 'logprobs': None}, id='run-b75339a2-0780-4db9-9099-66c5d4e5d015-0', usage_metadata={'input_tokens': 27, 'output_tokens': 214, 'total_tokens': 241})"
      ]
     },
     "execution_count": 6,
     "metadata": {},
     "output_type": "execute_result"
    }
   ],
   "source": [
    "chain.invoke({\"input\": \"how can langsmith help with testing?\"})"
   ]
  },
  {
   "cell_type": "code",
   "execution_count": 7,
   "id": "5a4fb314-3187-44e9-b2a1-0d707aa738f1",
   "metadata": {},
   "outputs": [],
   "source": [
    "from langchain_core.output_parsers import StrOutputParser\n",
    "\n",
    "output_parser = StrOutputParser()"
   ]
  },
  {
   "cell_type": "code",
   "execution_count": 8,
   "id": "8f6c1330-8dba-4466-831a-a5e766fe31f9",
   "metadata": {},
   "outputs": [],
   "source": [
    "chain = prompt | llm | output_parser"
   ]
  },
  {
   "cell_type": "code",
   "execution_count": 9,
   "id": "e8903ffc-5d5b-48f1-9c91-c7ac2ddc1def",
   "metadata": {},
   "outputs": [
    {
     "data": {
      "text/plain": [
       "'Langsmith is a powerful tool that can be used to assist with testing in various ways. Here are some ways in which Langsmith can help with testing:\\n\\n1. **Automated Testing**: Langsmith can be used to generate test cases automatically based on the grammar and rules provided. These test cases can cover a wide range of scenarios and help in achieving better test coverage.\\n\\n2. **Data Generation**: Langsmith can be used to generate realistic and diverse input data for testing purposes. This can help in uncovering edge cases and scenarios that may not have been considered initially.\\n\\n3. **Scenario Testing**: By defining specific scenarios and rules in Langsmith, testers can easily create test cases that cover different user interactions and paths through the application.\\n\\n4. **Load Testing**: Langsmith can be utilized to generate large volumes of data or simulate multiple users interacting with the system concurrently. This can help in testing the performance and scalability of the application.\\n\\n5. **API Testing**: Langsmith can be used to generate API calls and responses based on defined grammar and rules. This can streamline API testing and ensure that the system behaves as expected.\\n\\n6. **Regression Testing**: Langsmith-generated test cases can be used for regression testing to ensure that new features or changes do not introduce any unintended side effects or break existing functionality.\\n\\nOverall, Langsmith can be a valuable tool in the testing process by automating test case generation, improving test coverage, and facilitating the testing of complex scenarios.'"
      ]
     },
     "execution_count": 9,
     "metadata": {},
     "output_type": "execute_result"
    }
   ],
   "source": [
    "chain.invoke({\"input\": \"how can langsmith help with testing?\"})"
   ]
  },
  {
   "cell_type": "code",
   "execution_count": 12,
   "id": "c09c8522-c7fa-4934-8921-e9d973d583ca",
   "metadata": {
    "editable": true,
    "slideshow": {
     "slide_type": ""
    },
    "tags": []
   },
   "outputs": [],
   "source": [
    "from langchain_community.document_loaders import WebBaseLoader\n",
    "loader = WebBaseLoader(\"https://docs.smith.langchain.com/overview\")\n",
    "\n",
    "docs = loader.load()"
   ]
  },
  {
   "cell_type": "code",
   "execution_count": 13,
   "id": "b7781a3e-5115-4dbb-976d-315fccf837dc",
   "metadata": {},
   "outputs": [],
   "source": [
    "from langchain_openai import OpenAIEmbeddings\n",
    "\n",
    "embeddings = OpenAIEmbeddings()"
   ]
  },
  {
   "cell_type": "code",
   "execution_count": 15,
   "id": "d1f91ce6-363a-4308-adb8-d5d4809d3766",
   "metadata": {},
   "outputs": [],
   "source": [
    "from langchain_community.vectorstores import FAISS\n",
    "from langchain.text_splitter import RecursiveCharacterTextSplitter\n",
    "\n",
    "\n",
    "text_splitter = RecursiveCharacterTextSplitter()\n",
    "documents = text_splitter.split_documents(docs)\n",
    "vector = FAISS.from_documents(documents, embeddings)"
   ]
  },
  {
   "cell_type": "code",
   "execution_count": 16,
   "id": "2433a68f-45b0-48d7-9ddb-c910bc83b1df",
   "metadata": {},
   "outputs": [],
   "source": [
    "from langchain.chains.combine_documents import create_stuff_documents_chain\n",
    "\n",
    "prompt = ChatPromptTemplate.from_template(\"\"\"Answer the following question based only on the provided context:\n",
    "\n",
    "<context>\n",
    "{context}\n",
    "</context>\n",
    "\n",
    "Question: {input}\"\"\")\n",
    "\n",
    "document_chain = create_stuff_documents_chain(llm, prompt)"
   ]
  },
  {
   "cell_type": "code",
   "execution_count": 17,
   "id": "40991507-fe01-4631-828d-c9f39d685b50",
   "metadata": {},
   "outputs": [
    {
     "data": {
      "text/plain": [
       "'Langsmith can help with testing by allowing users to visualize test results.'"
      ]
     },
     "execution_count": 17,
     "metadata": {},
     "output_type": "execute_result"
    }
   ],
   "source": [
    "from langchain_core.documents import Document\n",
    "\n",
    "document_chain.invoke({\n",
    "    \"input\": \"how can langsmith help with testing?\",\n",
    "    \"context\": [Document(page_content=\"langsmith can let you visualize test results\")]\n",
    "})"
   ]
  },
  {
   "cell_type": "code",
   "execution_count": 18,
   "id": "8fb67129-779d-4d67-a8ab-2180d65feb56",
   "metadata": {},
   "outputs": [],
   "source": [
    "from langchain.chains import create_retrieval_chain\n",
    "\n",
    "retriever = vector.as_retriever()\n",
    "retrieval_chain = create_retrieval_chain(retriever, document_chain)"
   ]
  },
  {
   "cell_type": "code",
   "execution_count": 19,
   "id": "9a55b509-4f7d-4874-972e-e62e34a577f0",
   "metadata": {},
   "outputs": [
    {
     "name": "stdout",
     "output_type": "stream",
     "text": [
      "LangSmith can help with testing by providing tools and features for evaluating and monitoring production-grade LLM applications. It allows users to closely monitor and evaluate their applications, helping them to ship quickly and with confidence. LangSmith offers features such as logging traces, running evaluations with test cases and evaluators, and providing built-in accuracy evaluators. Users can also create datasets, examples, and evaluators to test their AI systems and analyze the results.\n"
     ]
    }
   ],
   "source": [
    "response = retrieval_chain.invoke({\"input\": \"how can langsmith help with testing?\"})\n",
    "print(response[\"answer\"])\n",
    "\n",
    "# LangSmith offers several features that can help with testing:..."
   ]
  },
  {
   "cell_type": "code",
   "execution_count": null,
   "id": "379293c1-657a-4b19-96d2-f355f855ef57",
   "metadata": {
    "editable": true,
    "slideshow": {
     "slide_type": ""
    },
    "tags": []
   },
   "outputs": [],
   "source": []
  }
 ],
 "metadata": {
  "kernelspec": {
   "display_name": "Python 3 (ipykernel)",
   "language": "python",
   "name": "python3"
  },
  "language_info": {
   "codemirror_mode": {
    "name": "ipython",
    "version": 3
   },
   "file_extension": ".py",
   "mimetype": "text/x-python",
   "name": "python",
   "nbconvert_exporter": "python",
   "pygments_lexer": "ipython3",
   "version": "3.11.8"
  }
 },
 "nbformat": 4,
 "nbformat_minor": 5
}
