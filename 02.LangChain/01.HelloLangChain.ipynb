{
 "cells": [
  {
   "cell_type": "markdown",
   "id": "32ed9f1f-9c98-42a8-bb85-5f74bdda3fc2",
   "metadata": {},
   "source": [
    "# Hello LangChain"
   ]
  },
  {
   "cell_type": "code",
   "execution_count": 3,
   "id": "1bbadfac-d43b-490e-9115-25e3d0753244",
   "metadata": {},
   "outputs": [],
   "source": [
    "from langchain_openai import ChatOpenAI"
   ]
  },
  {
   "cell_type": "code",
   "execution_count": 6,
   "id": "355ec043-05ae-4ed8-a2a5-fd10c55b2701",
   "metadata": {
    "editable": true,
    "slideshow": {
     "slide_type": ""
    },
    "tags": []
   },
   "outputs": [
    {
     "ename": "ValidationError",
     "evalue": "1 validation error for ChatOpenAI\n__root__\n  Did not find openai_api_key, please add an environment variable `OPENAI_API_KEY` which contains it, or pass `openai_api_key` as a named parameter. (type=value_error)",
     "output_type": "error",
     "traceback": [
      "\u001b[1;31m---------------------------------------------------------------------------\u001b[0m",
      "\u001b[1;31mValidationError\u001b[0m                           Traceback (most recent call last)",
      "Cell \u001b[1;32mIn[6], line 1\u001b[0m\n\u001b[1;32m----> 1\u001b[0m llm \u001b[38;5;241m=\u001b[39m \u001b[43mChatOpenAI\u001b[49m\u001b[43m(\u001b[49m\u001b[43m)\u001b[49m\n",
      "File \u001b[1;32mc:\\repo\\LangChain\\MyLangChain\\venv\\Lib\\site-packages\\pydantic\\v1\\main.py:341\u001b[0m, in \u001b[0;36mBaseModel.__init__\u001b[1;34m(__pydantic_self__, **data)\u001b[0m\n\u001b[0;32m    339\u001b[0m values, fields_set, validation_error \u001b[38;5;241m=\u001b[39m validate_model(__pydantic_self__\u001b[38;5;241m.\u001b[39m\u001b[38;5;18m__class__\u001b[39m, data)\n\u001b[0;32m    340\u001b[0m \u001b[38;5;28;01mif\u001b[39;00m validation_error:\n\u001b[1;32m--> 341\u001b[0m     \u001b[38;5;28;01mraise\u001b[39;00m validation_error\n\u001b[0;32m    342\u001b[0m \u001b[38;5;28;01mtry\u001b[39;00m:\n\u001b[0;32m    343\u001b[0m     object_setattr(__pydantic_self__, \u001b[38;5;124m'\u001b[39m\u001b[38;5;124m__dict__\u001b[39m\u001b[38;5;124m'\u001b[39m, values)\n",
      "\u001b[1;31mValidationError\u001b[0m: 1 validation error for ChatOpenAI\n__root__\n  Did not find openai_api_key, please add an environment variable `OPENAI_API_KEY` which contains it, or pass `openai_api_key` as a named parameter. (type=value_error)"
     ]
    }
   ],
   "source": [
    "llm = ChatOpenAI()"
   ]
  },
  {
   "cell_type": "code",
   "execution_count": 3,
   "id": "26ecc54a-1cbf-4c1b-aaf0-b0053f76dca5",
   "metadata": {},
   "outputs": [],
   "source": [
    "from langchain_core.prompts import ChatPromptTemplate"
   ]
  },
  {
   "cell_type": "code",
   "execution_count": 4,
   "id": "0b7a38ba-4993-47e6-a538-40756702f307",
   "metadata": {},
   "outputs": [],
   "source": [
    "prompt = ChatPromptTemplate.from_messages([\n",
    "    (\"system\", \"You are world class technical documentation writer.\"),\n",
    "    (\"user\", \"{input}\")\n",
    "])"
   ]
  },
  {
   "cell_type": "code",
   "execution_count": 5,
   "id": "938b590e-60b4-49a2-9fc1-5c0a23becf62",
   "metadata": {},
   "outputs": [],
   "source": [
    "chain = prompt | llm "
   ]
  },
  {
   "cell_type": "code",
   "execution_count": 6,
   "id": "f99b4ee9-06c0-47e5-b002-a445678a9564",
   "metadata": {},
   "outputs": [
    {
     "data": {
      "text/plain": [
       "AIMessage(content=\"Langsmith can be a valuable resource for testing in various ways. Here are a few examples:\\n\\n1. Test Case Documentation: Langsmith can assist in writing clear and comprehensive test case documentation. This includes defining test scenarios, steps, expected results, and any necessary data or preconditions. Well-documented test cases help ensure that all aspects of the software are thoroughly tested.\\n\\n2. Test Plan Creation: Langsmith can help create test plans that outline the overall testing strategy, including objectives, scope, resources, and timelines. A well-defined test plan ensures that testing efforts are organized and focused, leading to more effective testing.\\n\\n3. User Acceptance Testing (UAT): Langsmith can assist in writing UAT scripts and test cases. UAT ensures that the software meets the requirements and expectations of end-users. By providing clear instructions and expected results, Langsmith can help ensure a smooth UAT process.\\n\\n4. Automated Testing: Langsmith can help with creating documentation for automated testing frameworks, including test scripts, setup instructions, and troubleshooting guides. This enables testers to automate repetitive tasks, reducing manual effort and improving efficiency.\\n\\n5. API Testing: Langsmith can assist in writing documentation for API testing, including API test case templates, sample requests, and expected responses. Clear documentation helps testers understand the API functionality and perform comprehensive testing.\\n\\n6. Performance Testing: Langsmith can help in creating documentation for performance testing, including test scenarios, load profiles, and performance metrics. Well-documented performance testing procedures enable testers to identify bottlenecks, monitor system behavior, and optimize performance.\\n\\n7. Bug Reporting and Tracking: Langsmith can assist in creating documentation for bug reporting and tracking systems. This includes guidelines for bug reproduction, capturing screenshots or videos, and providing relevant details for developers to investigate and fix issues effectively.\\n\\nOverall, Langsmith's technical documentation expertise can streamline the testing process, increase test coverage, and ensure that testing efforts are well-documented and organized.\")"
      ]
     },
     "execution_count": 6,
     "metadata": {},
     "output_type": "execute_result"
    }
   ],
   "source": [
    "chain.invoke({\"input\": \"how can langsmith help with testing?\"})"
   ]
  },
  {
   "cell_type": "code",
   "execution_count": 7,
   "id": "5a4fb314-3187-44e9-b2a1-0d707aa738f1",
   "metadata": {},
   "outputs": [],
   "source": [
    "from langchain_core.output_parsers import StrOutputParser\n",
    "\n",
    "output_parser = StrOutputParser()"
   ]
  },
  {
   "cell_type": "code",
   "execution_count": 8,
   "id": "8f6c1330-8dba-4466-831a-a5e766fe31f9",
   "metadata": {},
   "outputs": [],
   "source": [
    "chain = prompt | llm | output_parser"
   ]
  },
  {
   "cell_type": "code",
   "execution_count": 9,
   "id": "e8903ffc-5d5b-48f1-9c91-c7ac2ddc1def",
   "metadata": {},
   "outputs": [
    {
     "data": {
      "text/plain": [
       "'Langsmith can be a valuable tool for testing in several ways:\\n\\n1. Test Case Generation: Langsmith can automatically generate test cases based on the specifications provided. It uses natural language processing to understand the requirements and generate test cases that cover all possible scenarios. This saves time and effort in manually creating test cases, ensuring better coverage and reducing the risk of missing any critical test scenarios.\\n\\n2. Test Data Generation: Testing often requires a variety of test data to cover different scenarios. Langsmith can generate realistic and diverse test data based on the specifications. It can generate data for various data types, including strings, numbers, dates, and more. This helps in creating a comprehensive test suite with a wide range of data inputs.\\n\\n3. Test Documentation: Langsmith can automatically generate test documentation by extracting relevant information from the specifications. It can create test plans, test scripts, and test reports, ensuring consistent and accurate documentation. This saves time for testers and ensures that the documentation is always up to date with the latest changes in the specifications.\\n\\n4. Test Execution: Langsmith can also assist in test execution by providing a platform for running automated tests. It can integrate with testing frameworks and tools to execute test cases and capture test results. This streamlines the testing process, reduces manual effort, and allows for easy tracking of test execution progress.\\n\\n5. Test Coverage Analysis: Langsmith can analyze the test coverage by comparing the generated test cases with the specifications. It can identify any gaps in the test coverage and suggest additional test cases to improve the overall coverage. This helps in ensuring that all critical functionalities are tested adequately and reduces the risk of overlooking any important test scenarios.\\n\\nOverall, Langsmith can significantly improve the efficiency and effectiveness of testing by automating various testing tasks, generating test cases and data, providing documentation support, facilitating test execution, and analyzing test coverage.'"
      ]
     },
     "execution_count": 9,
     "metadata": {},
     "output_type": "execute_result"
    }
   ],
   "source": [
    "chain.invoke({\"input\": \"how can langsmith help with testing?\"})"
   ]
  },
  {
   "cell_type": "code",
   "execution_count": 10,
   "id": "c09c8522-c7fa-4934-8921-e9d973d583ca",
   "metadata": {
    "editable": true,
    "slideshow": {
     "slide_type": ""
    },
    "tags": []
   },
   "outputs": [],
   "source": [
    "from langchain_community.document_loaders import WebBaseLoader\n",
    "loader = WebBaseLoader(\"https://docs.smith.langchain.com/overview\")\n",
    "\n",
    "docs = loader.load()"
   ]
  },
  {
   "cell_type": "code",
   "execution_count": 12,
   "id": "b7781a3e-5115-4dbb-976d-315fccf837dc",
   "metadata": {},
   "outputs": [],
   "source": [
    "from langchain_openai import OpenAIEmbeddings\n",
    "\n",
    "embeddings = OpenAIEmbeddings()"
   ]
  },
  {
   "cell_type": "code",
   "execution_count": 13,
   "id": "d1f91ce6-363a-4308-adb8-d5d4809d3766",
   "metadata": {},
   "outputs": [],
   "source": [
    "from langchain_community.vectorstores import FAISS\n",
    "from langchain.text_splitter import RecursiveCharacterTextSplitter\n",
    "\n",
    "\n",
    "text_splitter = RecursiveCharacterTextSplitter()\n",
    "documents = text_splitter.split_documents(docs)\n",
    "vector = FAISS.from_documents(documents, embeddings)"
   ]
  },
  {
   "cell_type": "code",
   "execution_count": 14,
   "id": "2433a68f-45b0-48d7-9ddb-c910bc83b1df",
   "metadata": {},
   "outputs": [],
   "source": [
    "from langchain.chains.combine_documents import create_stuff_documents_chain\n",
    "\n",
    "prompt = ChatPromptTemplate.from_template(\"\"\"Answer the following question based only on the provided context:\n",
    "\n",
    "<context>\n",
    "{context}\n",
    "</context>\n",
    "\n",
    "Question: {input}\"\"\")\n",
    "\n",
    "document_chain = create_stuff_documents_chain(llm, prompt)"
   ]
  },
  {
   "cell_type": "code",
   "execution_count": 15,
   "id": "40991507-fe01-4631-828d-c9f39d685b50",
   "metadata": {},
   "outputs": [
    {
     "data": {
      "text/plain": [
       "'Langsmith can help with testing by allowing users to visualize test results.'"
      ]
     },
     "execution_count": 15,
     "metadata": {},
     "output_type": "execute_result"
    }
   ],
   "source": [
    "from langchain_core.documents import Document\n",
    "\n",
    "document_chain.invoke({\n",
    "    \"input\": \"how can langsmith help with testing?\",\n",
    "    \"context\": [Document(page_content=\"langsmith can let you visualize test results\")]\n",
    "})"
   ]
  },
  {
   "cell_type": "code",
   "execution_count": 16,
   "id": "8fb67129-779d-4d67-a8ab-2180d65feb56",
   "metadata": {},
   "outputs": [],
   "source": [
    "from langchain.chains import create_retrieval_chain\n",
    "\n",
    "retriever = vector.as_retriever()\n",
    "retrieval_chain = create_retrieval_chain(retriever, document_chain)"
   ]
  },
  {
   "cell_type": "code",
   "execution_count": 17,
   "id": "9a55b509-4f7d-4874-972e-e62e34a577f0",
   "metadata": {},
   "outputs": [
    {
     "name": "stdout",
     "output_type": "stream",
     "text": [
      "LangSmith can help with testing by providing the ability to run chains over datasets and visualize the outputs. It simplifies dataset uploading and allows users to easily review the results of running chains over data points. Users can assign feedback to runs and mark them as correct or incorrect directly in the web app. LangSmith also offers evaluators that can be specified during test runs to evaluate the results. Additionally, LangSmith provides annotation queues for manual review and annotation of runs, allowing users to assess subjective qualities and validate auto-evaluated runs.\n"
     ]
    }
   ],
   "source": [
    "response = retrieval_chain.invoke({\"input\": \"how can langsmith help with testing?\"})\n",
    "print(response[\"answer\"])\n",
    "\n",
    "# LangSmith offers several features that can help with testing:..."
   ]
  },
  {
   "cell_type": "code",
   "execution_count": null,
   "id": "379293c1-657a-4b19-96d2-f355f855ef57",
   "metadata": {
    "editable": true,
    "slideshow": {
     "slide_type": ""
    },
    "tags": []
   },
   "outputs": [],
   "source": []
  }
 ],
 "metadata": {
  "kernelspec": {
   "display_name": "Python 3 (ipykernel)",
   "language": "python",
   "name": "python3"
  },
  "language_info": {
   "codemirror_mode": {
    "name": "ipython",
    "version": 3
   },
   "file_extension": ".py",
   "mimetype": "text/x-python",
   "name": "python",
   "nbconvert_exporter": "python",
   "pygments_lexer": "ipython3",
   "version": "3.11.8"
  }
 },
 "nbformat": 4,
 "nbformat_minor": 5
}
