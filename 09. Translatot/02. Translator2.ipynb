{
 "cells": [
  {
   "cell_type": "markdown",
   "id": "32ed9f1f-9c98-42a8-bb85-5f74bdda3fc2",
   "metadata": {},
   "source": [
    "# Hello LangChain"
   ]
  },
  {
   "cell_type": "code",
   "execution_count": 25,
   "id": "73033f61",
   "metadata": {},
   "outputs": [],
   "source": [
    "import ipywidgets as widgets"
   ]
  },
  {
   "cell_type": "code",
   "execution_count": 26,
   "id": "5fd0a8cc",
   "metadata": {},
   "outputs": [],
   "source": [
    "nederlands = widgets.Text(value='Hallo Chris', disabled=False)"
   ]
  },
  {
   "cell_type": "code",
   "execution_count": 27,
   "id": "8696689f",
   "metadata": {},
   "outputs": [
    {
     "data": {
      "application/vnd.jupyter.widget-view+json": {
       "model_id": "7a80a24277174f92a75f593f73189222",
       "version_major": 2,
       "version_minor": 0
      },
      "text/plain": [
       "Text(value='Hallo Chris')"
      ]
     },
     "metadata": {},
     "output_type": "display_data"
    }
   ],
   "source": [
    "display(nederlands)"
   ]
  },
  {
   "cell_type": "code",
   "execution_count": 173,
   "id": "cebaaca9",
   "metadata": {},
   "outputs": [
    {
     "name": "stdout",
     "output_type": "stream",
     "text": [
      "goed gedaan\n"
     ]
    }
   ],
   "source": [
    "print(nederlands.value)\n"
   ]
  },
  {
   "cell_type": "code",
   "execution_count": 162,
   "id": "1bbadfac-d43b-490e-9115-25e3d0753244",
   "metadata": {
    "editable": true,
    "slideshow": {
     "slide_type": ""
    },
    "tags": []
   },
   "outputs": [],
   "source": [
    "from langchain_openai import ChatOpenAI"
   ]
  },
  {
   "cell_type": "code",
   "execution_count": 163,
   "id": "355ec043-05ae-4ed8-a2a5-fd10c55b2701",
   "metadata": {
    "editable": true,
    "slideshow": {
     "slide_type": ""
    },
    "tags": []
   },
   "outputs": [],
   "source": [
    "llm = ChatOpenAI()"
   ]
  },
  {
   "cell_type": "code",
   "execution_count": 164,
   "id": "26ecc54a-1cbf-4c1b-aaf0-b0053f76dca5",
   "metadata": {
    "editable": true,
    "slideshow": {
     "slide_type": ""
    },
    "tags": []
   },
   "outputs": [],
   "source": [
    "from langchain_core.prompts import ChatPromptTemplate"
   ]
  },
  {
   "cell_type": "code",
   "execution_count": 165,
   "id": "2433a68f-45b0-48d7-9ddb-c910bc83b1df",
   "metadata": {
    "editable": true,
    "slideshow": {
     "slide_type": ""
    },
    "tags": []
   },
   "outputs": [],
   "source": [
    "from langchain.chains.combine_documents import create_stuff_documents_chain\n",
    "\n",
    "prompt = ChatPromptTemplate.from_template(\"\"\"Translate the next text from Dutch to english and only output the translated text:\n",
    "\n",
    "{input}\"\"\")\n",
    "\n"
   ]
  },
  {
   "cell_type": "code",
   "execution_count": 166,
   "id": "b98dcfbb",
   "metadata": {},
   "outputs": [],
   "source": [
    "chain = prompt | llm "
   ]
  },
  {
   "cell_type": "code",
   "execution_count": 167,
   "id": "8b439148",
   "metadata": {},
   "outputs": [],
   "source": [
    "result = chain.invoke({\"input\": nederlands.value})"
   ]
  },
  {
   "cell_type": "code",
   "execution_count": 168,
   "id": "8e4c4e7b",
   "metadata": {},
   "outputs": [
    {
     "data": {
      "text/plain": [
       "AIMessage(content='well done', response_metadata={'token_usage': {'completion_tokens': 2, 'prompt_tokens': 27, 'total_tokens': 29}, 'model_name': 'gpt-3.5-turbo-0125', 'system_fingerprint': None, 'finish_reason': 'stop', 'logprobs': None}, id='run-e129a9e6-8c34-40f6-900e-98e583e6c23d-0', usage_metadata={'input_tokens': 27, 'output_tokens': 2, 'total_tokens': 29})"
      ]
     },
     "metadata": {},
     "output_type": "display_data"
    }
   ],
   "source": [
    "display(result)"
   ]
  },
  {
   "cell_type": "code",
   "execution_count": 169,
   "id": "74daeaf9",
   "metadata": {},
   "outputs": [
    {
     "data": {
      "text/plain": [
       "'well done'"
      ]
     },
     "metadata": {},
     "output_type": "display_data"
    }
   ],
   "source": [
    "input = result.content\n",
    "display(input)"
   ]
  },
  {
   "cell_type": "code",
   "execution_count": 170,
   "id": "9cc946a0",
   "metadata": {},
   "outputs": [
    {
     "data": {
      "application/vnd.jupyter.widget-view+json": {
       "model_id": "952ec2fde70f45ab9f9610abdb958d30",
       "version_major": 2,
       "version_minor": 0
      },
      "text/plain": [
       "Text(value='well done', disabled=True)"
      ]
     },
     "execution_count": 170,
     "metadata": {},
     "output_type": "execute_result"
    }
   ],
   "source": [
    "widgets.Text(value=input, disabled=True)"
   ]
  },
  {
   "cell_type": "code",
   "execution_count": 171,
   "id": "bfe2353e",
   "metadata": {},
   "outputs": [
    {
     "name": "stderr",
     "output_type": "stream",
     "text": [
      "C:\\Users\\jeroe\\AppData\\Local\\Temp\\ipykernel_7696\\841827264.py:13: DeprecationWarning: Due to a bug, this method doesn't actually stream the response content, `.with_streaming_response.method()` should be used instead\n",
      "  response.stream_to_file(speech_file_path)\n"
     ]
    }
   ],
   "source": [
    "from pathlib import Path\n",
    "from openai import OpenAI\n",
    "client = OpenAI()\n",
    "\n",
    "speech_file_path = Path(\".\").parent / \"speech1.mp3\"\n",
    "response = client.audio.speech.create(\n",
    "  model=\"tts-1\",\n",
    "  voice=\"alloy\",\n",
    "  speed=0.7,\n",
    "  input=input\n",
    ")\n",
    "\n",
    "response.stream_to_file(speech_file_path)"
   ]
  },
  {
   "cell_type": "code",
   "execution_count": 172,
   "id": "df10c1dd",
   "metadata": {},
   "outputs": [
    {
     "data": {
      "text/html": [
       "\n",
       "                <audio  controls=\"controls\" >\n",
       "                    <source src=\"data:audio/mpeg;base64,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\" type=\"audio/mpeg\" />\n",
       "                    Your browser does not support the audio element.\n",
       "                </audio>\n",
       "              "
      ],
      "text/plain": [
       "<IPython.lib.display.Audio object>"
      ]
     },
     "execution_count": 172,
     "metadata": {},
     "output_type": "execute_result"
    }
   ],
   "source": [
    "import IPython\n",
    "IPython.display.Audio(\"speech1.mp3\")"
   ]
  },
  {
   "cell_type": "code",
   "execution_count": null,
   "id": "35405d4c",
   "metadata": {},
   "outputs": [],
   "source": []
  },
  {
   "cell_type": "code",
   "execution_count": null,
   "id": "1c3a8704",
   "metadata": {},
   "outputs": [],
   "source": []
  },
  {
   "cell_type": "code",
   "execution_count": null,
   "id": "307a962a",
   "metadata": {},
   "outputs": [],
   "source": []
  },
  {
   "cell_type": "code",
   "execution_count": null,
   "id": "a3c1cce1",
   "metadata": {},
   "outputs": [],
   "source": []
  }
 ],
 "metadata": {
  "kernelspec": {
   "display_name": "venv",
   "language": "python",
   "name": "python3"
  },
  "language_info": {
   "codemirror_mode": {
    "name": "ipython",
    "version": 3
   },
   "file_extension": ".py",
   "mimetype": "text/x-python",
   "name": "python",
   "nbconvert_exporter": "python",
   "pygments_lexer": "ipython3",
   "version": "3.11.8"
  }
 },
 "nbformat": 4,
 "nbformat_minor": 5
}
