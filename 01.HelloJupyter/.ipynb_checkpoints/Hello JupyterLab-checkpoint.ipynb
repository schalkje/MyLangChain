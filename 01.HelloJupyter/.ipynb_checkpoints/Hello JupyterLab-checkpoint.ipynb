{
 "cells": [
  {
   "cell_type": "code",
   "execution_count": 2,
   "id": "4fa7cf6a-1b8b-4a0a-95a9-eae0a8d03e88",
   "metadata": {},
   "outputs": [
    {
     "name": "stdout",
     "output_type": "stream",
     "text": [
      "Hello JupyterLab\n"
     ]
    }
   ],
   "source": [
    "print(\"Hello JupyterLab\")"
   ]
  },
  {
   "cell_type": "markdown",
   "id": "19a3c02b-903d-4b90-a65c-b57ddc70df1f",
   "metadata": {},
   "source": [
    "# Hello\n",
    "- Testing Markdown"
   ]
  }
 ],
 "metadata": {
  "kernelspec": {
   "display_name": "Python 3 (ipykernel)",
   "language": "python",
   "name": "python3"
  },
  "language_info": {
   "codemirror_mode": {
    "name": "ipython",
    "version": 3
   },
   "file_extension": ".py",
   "mimetype": "text/x-python",
   "name": "python",
   "nbconvert_exporter": "python",
   "pygments_lexer": "ipython3",
   "version": "3.12.1"
  }
 },
 "nbformat": 4,
 "nbformat_minor": 5
}
